{
  "nbformat": 4,
  "nbformat_minor": 0,
  "metadata": {
    "colab": {
      "provenance": [],
      "gpuType": "T4",
      "authorship_tag": "ABX9TyNyf79R0Zmxdk6g1u1QXd42"
    },
    "kernelspec": {
      "name": "python3",
      "display_name": "Python 3"
    },
    "language_info": {
      "name": "python"
    },
    "accelerator": "GPU"
  },
  "cells": [
    {
      "cell_type": "markdown",
      "source": [
        "# Contrastive Language Image Pre-Training (CLIP) on Radiology Objects in COntext (ROCO)"
      ],
      "metadata": {
        "id": "lGtgnSaFPORr"
      }
    },
    {
      "cell_type": "markdown",
      "source": [
        "## Import libraries and data\n",
        "Before starting executing the notebook, do the following steps:\n",
        "- Go to \"Runtime\" > \"Change type of runtime\" and select a GPU-based runtime;\n",
        "- Load the `resized_train.zip`, `caption_prediction_train.csv`, `concept_detection_train.csv`  files in the File folder."
      ],
      "metadata": {
        "id": "XbTjR7azPWUi"
      }
    },
    {
      "cell_type": "code",
      "execution_count": 1,
      "metadata": {
        "id": "7QRfnMo0PMnC"
      },
      "outputs": [],
      "source": [
        "import numpy as np\n",
        "import pandas as pd\n",
        "import tensorflow as tf\n",
        "from PIL import Image\n",
        "import matplotlib.pyplot as plt\n",
        "\n",
        "tfk = tf.keras\n",
        "tfkl = tfk.layers"
      ]
    },
    {
      "cell_type": "markdown",
      "source": [
        "Extract the images from `resized_train.zip`:"
      ],
      "metadata": {
        "id": "iiuBdadSXatO"
      }
    },
    {
      "cell_type": "code",
      "source": [
        "!unzip resized_train.zip"
      ],
      "metadata": {
        "id": "tpt7w_QBZEis"
      },
      "execution_count": null,
      "outputs": []
    },
    {
      "cell_type": "markdown",
      "source": [
        "Load textual data:"
      ],
      "metadata": {
        "id": "FcAwDGgbb_yo"
      }
    },
    {
      "cell_type": "code",
      "source": [
        "# Load the captions\n",
        "captions = pd.read_csv(\"caption_prediction_train.csv\",sep=\"\\t\", index_col=\"ID\")\n",
        "\n",
        "# Load the labels\n",
        "labels = pd.read_csv(\"concept_detection_train.csv\",sep=\"\\t\",index_col=\"ID\")\n",
        "# Each label string contains multiple labels separated by a semicolumn.\n",
        "# Transform the strings in lists of labels.\n",
        "labels[\"cuis\"] = labels[\"cuis\"].str.split(pat=\";\")"
      ],
      "metadata": {
        "id": "VvlLdp2XbsKw"
      },
      "execution_count": 33,
      "outputs": []
    },
    {
      "cell_type": "markdown",
      "source": [
        "We explore the images to check if they are all 128x128 pixel and how many channels they have:"
      ],
      "metadata": {
        "id": "KfsCqAbAmLlv"
      }
    },
    {
      "cell_type": "code",
      "source": [
        "max_channels = 1\n",
        "for i in labels[\"ID\"]:\n",
        "  image_name = \"resized_train/\"+i+\".jpg\"\n",
        "  img = Image.open(image_name)\n",
        "  img = np.array(img)\n",
        "  if img.ndim==3 and img.shape[2] > max_channels:\n",
        "    max_channels = img.shape[2]\n",
        "  # Check if the image has the expected resolution of 128x128\n",
        "  if img.shape[0]!=128 or img.shape[1]!=128:\n",
        "    print(f\"Error in {image_name}: its resolution is \" +\n",
        "      f\"{img.shape[0]}x{img.shape[1]}, while it should be 128x128\")\n",
        "\n",
        "print(f\"The maximum number of channels is {max_channels}.\")"
      ],
      "metadata": {
        "colab": {
          "base_uri": "https://localhost:8080/"
        },
        "id": "gvV_jUVokiPh",
        "outputId": "12c52992-e97f-4442-9598-42186e66fd64"
      },
      "execution_count": 3,
      "outputs": [
        {
          "output_type": "stream",
          "name": "stdout",
          "text": [
            "The maximum number of channels is 3.\n"
          ]
        }
      ]
    },
    {
      "cell_type": "markdown",
      "source": [
        "We import all the images:"
      ],
      "metadata": {
        "id": "yVU4R6F3mTSE"
      }
    },
    {
      "cell_type": "code",
      "source": [
        "images = tfk.utils.image_dataset_from_directory(\"./resized_train/\",\n",
        "                                                batch_size=32,\n",
        "                                                labels=None,\n",
        "                                                label_mode=None,\n",
        "                                                image_size=(128,128),\n",
        "                                                shuffle=False,\n",
        "                                                color_mode = \"rgb\")"
      ],
      "metadata": {
        "colab": {
          "base_uri": "https://localhost:8080/"
        },
        "id": "AA6DBcOmf8Ce",
        "outputId": "f77e758b-26fd-4283-99b7-f5a13c5ed328"
      },
      "execution_count": 13,
      "outputs": [
        {
          "output_type": "stream",
          "name": "stdout",
          "text": [
            "Found 83275 files belonging to 1 classes.\n"
          ]
        }
      ]
    },
    {
      "cell_type": "markdown",
      "source": [
        "Set the random seed for reproducibility:"
      ],
      "metadata": {
        "id": "u-GUnZwNarmc"
      }
    },
    {
      "cell_type": "code",
      "source": [
        "seed = 24948989491\n",
        "\n",
        "rng = np.random.default_rng(seed)\n",
        "tf.random.set_seed(seed)"
      ],
      "metadata": {
        "id": "FNGjCsktauhq"
      },
      "execution_count": 4,
      "outputs": []
    },
    {
      "cell_type": "markdown",
      "source": [
        "## Build the CLIP model"
      ],
      "metadata": {
        "id": "SUzdpCGjbK0n"
      }
    }
  ]
}