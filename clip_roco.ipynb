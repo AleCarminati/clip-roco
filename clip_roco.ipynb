{
  "nbformat": 4,
  "nbformat_minor": 0,
  "metadata": {
    "colab": {
      "provenance": [],
      "gpuType": "T4",
      "authorship_tag": "ABX9TyNX+mwKRhr5lXst5h9PG+Za"
    },
    "kernelspec": {
      "name": "python3",
      "display_name": "Python 3"
    },
    "language_info": {
      "name": "python"
    },
    "accelerator": "GPU"
  },
  "cells": [
    {
      "cell_type": "markdown",
      "source": [
        "# Contrastive Language Image Pre-Training (CLIP) on Radiology Objects in COntext (ROCO)"
      ],
      "metadata": {
        "id": "lGtgnSaFPORr"
      }
    },
    {
      "cell_type": "markdown",
      "source": [
        "## Import libraries and data\n",
        "Before starting executing the notebook, do the following steps:\n",
        "- Go to \"Runtime\" > \"Change type of runtime\" and select a GPU-based runtime;\n",
        "- Load the `resized_train.zip`, `caption_prediction_train.csv`, `concept_detection_train.csv`  files in the File folder."
      ],
      "metadata": {
        "id": "XbTjR7azPWUi"
      }
    },
    {
      "cell_type": "code",
      "execution_count": 25,
      "metadata": {
        "id": "7QRfnMo0PMnC"
      },
      "outputs": [],
      "source": [
        "import numpy as np\n",
        "import pandas as pd\n",
        "import tensorflow as tf\n",
        "from PIL import Image\n",
        "import matplotlib.pyplot as plt\n",
        "\n",
        "tfk = tf.keras\n",
        "tfkl = tfk.layers"
      ]
    },
    {
      "cell_type": "markdown",
      "source": [
        "Extract the images from `resized_train.zip`:"
      ],
      "metadata": {
        "id": "iiuBdadSXatO"
      }
    },
    {
      "cell_type": "code",
      "source": [
        "!unzip resized_train.zip"
      ],
      "metadata": {
        "id": "tpt7w_QBZEis"
      },
      "execution_count": null,
      "outputs": []
    },
    {
      "cell_type": "markdown",
      "source": [
        "Load textual data:"
      ],
      "metadata": {
        "id": "FcAwDGgbb_yo"
      }
    },
    {
      "cell_type": "code",
      "source": [
        "# Load the captions\n",
        "captions = pd.read_csv(\"caption_prediction_train.csv\",sep=\"\\t\", index_col=\"ID\")\n",
        "\n",
        "# Load the labels\n",
        "labels = pd.read_csv(\"concept_detection_train.csv\",sep=\"\\t\",index_col=\"ID\")\n",
        "# Each label string contains multiple labels separated by a semicolumn.\n",
        "# Transform the strings in lists of labels.\n",
        "labels[\"cuis\"] = labels[\"cuis\"].str.split(pat=\";\")"
      ],
      "metadata": {
        "id": "VvlLdp2XbsKw"
      },
      "execution_count": 26,
      "outputs": []
    },
    {
      "cell_type": "markdown",
      "source": [
        "We explore the images to check if they are all 128x128 pixel and how many channels they have:"
      ],
      "metadata": {
        "id": "KfsCqAbAmLlv"
      }
    },
    {
      "cell_type": "code",
      "source": [
        "max_channels = 1\n",
        "for i in labels.index:\n",
        "  image_name = \"resized_train/\"+i+\".jpg\"\n",
        "  img = Image.open(image_name)\n",
        "  img = np.array(img)\n",
        "  if img.ndim==3 and img.shape[2] > max_channels:\n",
        "    max_channels = img.shape[2]\n",
        "  # Check if the image has the expected resolution of 128x128\n",
        "  if img.shape[0]!=128 or img.shape[1]!=128:\n",
        "    print(f\"Error in {image_name}: its resolution is \" +\n",
        "      f\"{img.shape[0]}x{img.shape[1]}, while it should be 128x128\")\n",
        "\n",
        "print(f\"The maximum number of channels is {max_channels}.\")"
      ],
      "metadata": {
        "colab": {
          "base_uri": "https://localhost:8080/"
        },
        "id": "gvV_jUVokiPh",
        "outputId": "5cddbde5-5fda-4b15-cdd6-5a1c2d1fd459"
      },
      "execution_count": null,
      "outputs": [
        {
          "output_type": "stream",
          "name": "stdout",
          "text": [
            "The maximum number of channels is 3.\n"
          ]
        }
      ]
    },
    {
      "cell_type": "markdown",
      "source": [
        "We import all the images, we shuffle them and we split them in training and test sets:"
      ],
      "metadata": {
        "id": "yVU4R6F3mTSE"
      }
    },
    {
      "cell_type": "code",
      "source": [
        "images_train, images_test = tfk.utils.image_dataset_from_directory(\n",
        "    \"./resized_train/\", batch_size=32, labels=None, label_mode=None,\n",
        "    image_size=(128,128), shuffle=True, color_mode = \"rgb\",\n",
        "    validation_split = 0.2, subset=\"both\", seed=32414141)"
      ],
      "metadata": {
        "colab": {
          "base_uri": "https://localhost:8080/"
        },
        "id": "AA6DBcOmf8Ce",
        "outputId": "51af02d2-999f-4b3e-d01e-cac5efa3e304"
      },
      "execution_count": 27,
      "outputs": [
        {
          "output_type": "stream",
          "name": "stdout",
          "text": [
            "Found 83275 files belonging to 1 classes.\n",
            "Using 66620 files for training.\n",
            "Using 16655 files for validation.\n"
          ]
        }
      ]
    },
    {
      "cell_type": "markdown",
      "source": [
        "Following the division of the images, we split also the labels and the captions in training and test sets."
      ],
      "metadata": {
        "id": "ZedmmRO66o2V"
      }
    },
    {
      "cell_type": "code",
      "source": [
        "# Function to get the ordered IDs of the images in the datasets.\n",
        "train_idx = np.char.strip(\n",
        "    np.array(images_train.file_paths),\"./resized_train/.jpg\")\n",
        "test_idx = np.char.strip(\n",
        "    np.array(images_train.file_paths),\"./resized_train/.jpg\")\n",
        "\n",
        "captions_train = captions.loc[train_idx]\n",
        "captions_test = captions.loc[test_idx]\n",
        "labels_train = labels.loc[train_idx]\n",
        "labels_test = labels.loc[test_idx]"
      ],
      "metadata": {
        "id": "W0dZ5ftm8let"
      },
      "execution_count": 28,
      "outputs": []
    },
    {
      "cell_type": "markdown",
      "source": [
        "Set the random seed for reproducibility:"
      ],
      "metadata": {
        "id": "u-GUnZwNarmc"
      }
    },
    {
      "cell_type": "code",
      "source": [
        "seed = 24948989491\n",
        "\n",
        "rng = np.random.default_rng(seed)\n",
        "tf.random.set_seed(seed)"
      ],
      "metadata": {
        "id": "FNGjCsktauhq"
      },
      "execution_count": 29,
      "outputs": []
    },
    {
      "cell_type": "markdown",
      "source": [
        "## Build the CLIP model"
      ],
      "metadata": {
        "id": "SUzdpCGjbK0n"
      }
    },
    {
      "cell_type": "markdown",
      "source": [
        "### Define the CNN"
      ],
      "metadata": {
        "id": "_iXoxq0hesIe"
      }
    },
    {
      "cell_type": "markdown",
      "source": [
        "We define the convolutional block, which will be the base block for the CNN."
      ],
      "metadata": {
        "id": "h4O0ayBYoOGe"
      }
    },
    {
      "cell_type": "code",
      "source": [
        "def convolutional_block(x, filters, kernel):\n",
        "  '''\n",
        "  This function represents a convolutional block in a neural network.\n",
        "\n",
        "  Parameters:\n",
        "  - x: Input tensor, size (batch,h,w,channels)\n",
        "  filters: Number of filters for the convolution operation\n",
        "  kernel: Size of the convolution kernel\n",
        "\n",
        "  Returns:\n",
        "  - Output tensor after applying convolution and max pooling operations, size\n",
        "    (batch,h/2,w/2,filters)\n",
        "\n",
        "  Description:\n",
        "  The convolutional_block function takes an input tensor x and applies a\n",
        "  convolution operation with the specified number of filters and kernel size.\n",
        "  The convolution is performed with a stride of 1, using 'same' padding (i.e.\n",
        "  padding with zero on all the borders of the image), and the ReLU activation\n",
        "  function. After the convolution, a max pooling operation is applied to the\n",
        "  output tensor. The resulting tensor is returned as the output of the\n",
        "  convolutional block.\n",
        "  '''\n",
        "  # Apply convolution operation to the input x\n",
        "  x = tfkl.Conv2D(\n",
        "      filters,\n",
        "      kernel,\n",
        "      strides=1,\n",
        "      padding='same',\n",
        "      activation='relu'\n",
        "  )(x)\n",
        "  # Apply max pooling operation to the convolution output\n",
        "  x = tfkl.MaxPooling2D()(x)\n",
        "\n",
        "  return x"
      ],
      "metadata": {
        "id": "kwMLtYYUnJGO"
      },
      "execution_count": 30,
      "outputs": []
    },
    {
      "cell_type": "markdown",
      "source": [
        "We define the convolutional neural network, which is composed of a series of convolutional blocks and a flatten block."
      ],
      "metadata": {
        "id": "WBVToquMqrD1"
      }
    },
    {
      "cell_type": "code",
      "source": [
        "def get_convolutional_neural_network(blocks, filters, kernel):\n",
        "  '''\n",
        "  This function creates a convolutional neural network (CNN) model with the\n",
        "  specified number of blocks, filters, and kernel size.\n",
        "\n",
        "  Parameters:\n",
        "  - blocks: Number of convolutional blocks in the network\n",
        "  - filters: Number of filters for each convolutional block\n",
        "  - kernel: Size of the convolution kernel\n",
        "\n",
        "  Returns:\n",
        "  - CNN model\n",
        "\n",
        "  Description:\n",
        "  The get_convolutional_neural_network function constructs a CNN model using the\n",
        "  Keras API. It takes the number of blocks, the number of filters for each\n",
        "  convolutional block, and the kernel size as input parameters.\n",
        "\n",
        "  The function begins by defining an input layer with the specified input shape.\n",
        "  The inputs are then normalized using the Normalization layer provided by\n",
        "  TensorFlow Keras (tfkl).\n",
        "\n",
        "  Next, the function iterates through the specified number of blocks and applies\n",
        "  the convolutional_block function to extract features via convolution and\n",
        "  pooling operations.\n",
        "\n",
        "  After the convolutional blocks, the output tensor is flattened using the\n",
        "  Flatten layer from tfkl.\n",
        "\n",
        "  Finally, the Keras model is created using the tfk.Model constructor,\n",
        "  specifying the inputs and outputs.\n",
        "\n",
        "  If the model receives in input a (batch,h,w,channels) tensor, it returns a\n",
        "  (batch,h/(2^blocks)*w/(2^blocks)*filters*blocks) tensor.\n",
        "  '''\n",
        "  inputs = tfkl.Input(shape=input_shape, name='inputs')\n",
        "  x = tfkl.Normalization()(inputs)\n",
        "  # Extract features via convolution and pooling operations\n",
        "  for b in range(blocks):\n",
        "      x = convolutional_block(x, filters*(b+1), kernel)\n",
        "  x = tfkl.Flatten()(x)\n",
        "  # Create the Keras model\n",
        "  model = tfk.Model(inputs=inputs, outputs=x)\n",
        "  return model"
      ],
      "metadata": {
        "id": "EESmkOCuqq43"
      },
      "execution_count": 31,
      "outputs": []
    }
  ]
}